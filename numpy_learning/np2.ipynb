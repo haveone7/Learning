{
 "cells": [
  {
   "cell_type": "markdown",
   "metadata": {},
   "source": [
    "## numpy数据类型\n",
    "python基本数据类型：整数（int）、浮点数（float）、布尔值（bool）、字符串（str）、列表（list）、元组（tuple）、集合（set）、字典（dict）。<br>\n",
    "NumPy数据类型: NumPy 中，数据类型被称为 dtype。\n",
    "1. **int**：整数类型，例如 `int8`, `int16`, `int32`, `int64`.\n",
    "2. **uint**：无符号整数类型，例如 `uint8`, `uint16`, `uint32`, `uint64`.\n",
    "3. **float**：浮点数类型，例如 `float16`, `float32`, `float64`, `float128`.\n",
    "4. **complex**：复数类型，例如 `complex64`, `complex128`, `complex256`.\n",
    "5. **bool**：布尔类型，存储 True 或 False。\n",
    "6. **object**：Python 对象类型。\n",
    "7. **string_**：字符串类型，例如 `S`, `S10`（指定长度为10的字符串）。\n",
    "8. **unicode_**：Unicode 字符串类型，例如 `U`, `U10`（指定长度为10的Unicode字符串）。"
   ]
  },
  {
   "cell_type": "markdown",
   "metadata": {},
   "source": [
    "### dtype检查数据类型以及创建指定类型"
   ]
  },
  {
   "cell_type": "code",
   "execution_count": 19,
   "metadata": {},
   "outputs": [],
   "source": [
    "import numpy as np"
   ]
  },
  {
   "cell_type": "code",
   "execution_count": 20,
   "metadata": {},
   "outputs": [
    {
     "name": "stdout",
     "output_type": "stream",
     "text": [
      "<U6\n",
      "int32\n",
      "float64\n"
     ]
    }
   ],
   "source": [
    "arr1=np.adrray(['apple','orange','pear'])\n",
    "arr2=np.array([1,2,3,4,5])\n",
    "arr3=np.array([1.1,2.2,3.3])\n",
    "print(arr1.dtype)\n",
    "print(arr2.dtype)\n",
    "print(arr3.dtype)"
   ]
  },
  {
   "cell_type": "code",
   "execution_count": 21,
   "metadata": {},
   "outputs": [
    {
     "name": "stdout",
     "output_type": "stream",
     "text": [
      "float64\n",
      "Before change: int32\n",
      "After change: float32\n"
     ]
    }
   ],
   "source": [
    "arr4=np.array([1,2,3,4,5],dtype='float64')\n",
    "print(arr4.dtype)\n",
    "\n",
    "arr5=np.array([1,2,3,4,5])\n",
    "print('Before change:',arr5.dtype)\n",
    "arr5.dtype='float32'\n",
    "print('After change:',arr5.dtype)"
   ]
  },
  {
   "cell_type": "markdown",
   "metadata": {},
   "source": [
    "### astype\n",
    "不改变原数组类型"
   ]
  },
  {
   "cell_type": "code",
   "execution_count": 22,
   "metadata": {},
   "outputs": [
    {
     "name": "stdout",
     "output_type": "stream",
     "text": [
      "int32\n",
      "[1. 2. 3. 4. 5.] float64\n"
     ]
    }
   ],
   "source": [
    "arr6=np.array([1,2,3,4,5])\n",
    "arr7=arr6.astype('float64') #arr6.astype(float)\n",
    "print(arr6.dtype)\n",
    "print(arr7,arr7.dtype)"
   ]
  },
  {
   "cell_type": "markdown",
   "metadata": {},
   "source": [
    "## 副本copy与视图view\n",
    "副本是一个新数组:副本和原始数组中数据的修改不会影响彼此的变化,使用copy方法\n",
    "视图本身并不拥有数据:视图和原始数组数据的修改保持一致,使用view方法创建"
   ]
  },
  {
   "cell_type": "code",
   "execution_count": 23,
   "metadata": {},
   "outputs": [
    {
     "name": "stdout",
     "output_type": "stream",
     "text": [
      "source_arr: [1 2 3 4 5]\n",
      "copy_arr [1 2 3 4 5]\n",
      "Changed source_arr: [10  2  3  4  5]\n",
      "Changed copy_arr [ 1  2 30  4  5]\n"
     ]
    }
   ],
   "source": [
    "source_arr=np.array([1,2,3,4,5])\n",
    "copy_arr=source_arr.copy()\n",
    "print('source_arr:',source_arr)\n",
    "print('copy_arr',copy_arr)\n",
    "source_arr[0]=10\n",
    "copy_arr[2]=30\n",
    "print('Changed source_arr:',source_arr)\n",
    "print('Changed copy_arr',copy_arr)"
   ]
  },
  {
   "cell_type": "code",
   "execution_count": 24,
   "metadata": {},
   "outputs": [
    {
     "name": "stdout",
     "output_type": "stream",
     "text": [
      "source_arr: [10  2  3  4  5]\n",
      "view_arr [10  2  3  4  5]\n",
      "Changed source_arr: [100 200   3   4   5]\n",
      "Changed view_arr [100 200   3   4   5]\n"
     ]
    }
   ],
   "source": [
    "view_arr=source_arr.view()\n",
    "print('source_arr:',source_arr)\n",
    "print('view_arr',view_arr)\n",
    "view_arr[0]=100\n",
    "source_arr[1]=200\n",
    "print('Changed source_arr:',source_arr)\n",
    "print('Changed view_arr',source_arr)"
   ]
  },
  {
   "cell_type": "markdown",
   "metadata": {},
   "source": [
    "base属性(指向原始数组的属性)：如果数组是视图，则指向原始数组(无数据);如果数组是副本或自包含的，则 base 为 None(有数据)。"
   ]
  },
  {
   "cell_type": "code",
   "execution_count": 25,
   "metadata": {},
   "outputs": [
    {
     "name": "stdout",
     "output_type": "stream",
     "text": [
      "None\n",
      "None\n",
      "[100 200   3   4   5]\n"
     ]
    }
   ],
   "source": [
    "print(source_arr.base)\n",
    "print(copy_arr.base)\n",
    "print(view_arr.base)"
   ]
  }
 ],
 "metadata": {
  "kernelspec": {
   "display_name": "d2l",
   "language": "python",
   "name": "python3"
  },
  "language_info": {
   "codemirror_mode": {
    "name": "ipython",
    "version": 3
   },
   "file_extension": ".py",
   "mimetype": "text/x-python",
   "name": "python",
   "nbconvert_exporter": "python",
   "pygments_lexer": "ipython3",
   "version": "3.11.4"
  }
 },
 "nbformat": 4,
 "nbformat_minor": 2
}
