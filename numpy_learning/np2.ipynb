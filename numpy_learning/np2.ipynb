{
 "cells": [
  {
   "cell_type": "markdown",
   "metadata": {},
   "source": [
    "## numpy数据类型\n",
    "python基本数据类型：整数（int）、浮点数（float）、布尔值（bool）、字符串（str）、列表（list）、元组（tuple）、集合（set）、字典（dict）。<br>\n",
    "NumPy数据类型: NumPy 中，数据类型被称为 dtype。\n",
    "1. **int**：整数类型，例如 `int8`, `int16`, `int32`, `int64`.\n",
    "2. **uint**：无符号整数类型，例如 `uint8`, `uint16`, `uint32`, `uint64`.\n",
    "3. **float**：浮点数类型，例如 `float16`, `float32`, `float64`, `float128`.\n",
    "4. **complex**：复数类型，例如 `complex64`, `complex128`, `complex256`.\n",
    "5. **bool**：布尔类型，存储 True 或 False。\n",
    "6. **object**：Python 对象类型。\n",
    "7. **string_**：字符串类型，例如 `S`, `S10`（指定长度为10的字符串）。\n",
    "8. **unicode_**：Unicode 字符串类型，例如 `U`, `U10`（指定长度为10的Unicode字符串）。"
   ]
  },
  {
   "cell_type": "markdown",
   "metadata": {},
   "source": [
    "### dtype检查数据类型以及创建指定类型"
   ]
  },
  {
   "cell_type": "code",
   "execution_count": 1,
   "metadata": {},
   "outputs": [],
   "source": [
    "import numpy as np"
   ]
  },
  {
   "cell_type": "code",
   "execution_count": 2,
   "metadata": {},
   "outputs": [
    {
     "ename": "AttributeError",
     "evalue": "module 'numpy' has no attribute 'adrray'",
     "output_type": "error",
     "traceback": [
      "\u001b[1;31m---------------------------------------------------------------------------\u001b[0m",
      "\u001b[1;31mAttributeError\u001b[0m                            Traceback (most recent call last)",
      "\u001b[1;32mc:\\Users\\24084\\Desktop\\learning\\numpy_learning\\np2.ipynb 单元格 4\u001b[0m line \u001b[0;36m1\n\u001b[1;32m----> <a href='vscode-notebook-cell:/c%3A/Users/24084/Desktop/learning/numpy_learning/np2.ipynb#W3sZmlsZQ%3D%3D?line=0'>1</a>\u001b[0m arr1\u001b[39m=\u001b[39mnp\u001b[39m.\u001b[39madrray([\u001b[39m'\u001b[39m\u001b[39mapple\u001b[39m\u001b[39m'\u001b[39m,\u001b[39m'\u001b[39m\u001b[39morange\u001b[39m\u001b[39m'\u001b[39m,\u001b[39m'\u001b[39m\u001b[39mpear\u001b[39m\u001b[39m'\u001b[39m])\n\u001b[0;32m      <a href='vscode-notebook-cell:/c%3A/Users/24084/Desktop/learning/numpy_learning/np2.ipynb#W3sZmlsZQ%3D%3D?line=1'>2</a>\u001b[0m arr2\u001b[39m=\u001b[39mnp\u001b[39m.\u001b[39marray([\u001b[39m1\u001b[39m,\u001b[39m2\u001b[39m,\u001b[39m3\u001b[39m,\u001b[39m4\u001b[39m,\u001b[39m5\u001b[39m])\n\u001b[0;32m      <a href='vscode-notebook-cell:/c%3A/Users/24084/Desktop/learning/numpy_learning/np2.ipynb#W3sZmlsZQ%3D%3D?line=2'>3</a>\u001b[0m arr3\u001b[39m=\u001b[39mnp\u001b[39m.\u001b[39marray([\u001b[39m1.1\u001b[39m,\u001b[39m2.2\u001b[39m,\u001b[39m3.3\u001b[39m])\n",
      "File \u001b[1;32md:\\VS_Code_sets\\miniconda\\envs\\d2l\\Lib\\site-packages\\numpy\\__init__.py:333\u001b[0m, in \u001b[0;36m__getattr__\u001b[1;34m(attr)\u001b[0m\n\u001b[0;32m    330\u001b[0m     \u001b[39m\"\u001b[39m\u001b[39mRemoved in NumPy 1.25.0\u001b[39m\u001b[39m\"\u001b[39m\n\u001b[0;32m    331\u001b[0m     \u001b[39mraise\u001b[39;00m \u001b[39mRuntimeError\u001b[39;00m(\u001b[39m\"\u001b[39m\u001b[39mTester was removed in NumPy 1.25.\u001b[39m\u001b[39m\"\u001b[39m)\n\u001b[1;32m--> 333\u001b[0m \u001b[39mraise\u001b[39;00m \u001b[39mAttributeError\u001b[39;00m(\u001b[39m\"\u001b[39m\u001b[39mmodule \u001b[39m\u001b[39m{!r}\u001b[39;00m\u001b[39m has no attribute \u001b[39m\u001b[39m\"\u001b[39m\n\u001b[0;32m    334\u001b[0m                      \u001b[39m\"\u001b[39m\u001b[39m{!r}\u001b[39;00m\u001b[39m\"\u001b[39m\u001b[39m.\u001b[39mformat(\u001b[39m__name__\u001b[39m, attr))\n",
      "\u001b[1;31mAttributeError\u001b[0m: module 'numpy' has no attribute 'adrray'"
     ]
    }
   ],
   "source": [
    "arr1=np.adrray(['apple','orange','pear'])\n",
    "arr2=np.array([1,2,3,4,5])\n",
    "arr3=np.array([1.1,2.2,3.3])\n",
    "print(arr1.dtype)\n",
    "print(arr2.dtype)\n",
    "print(arr3.dtype)"
   ]
  },
  {
   "cell_type": "code",
   "execution_count": null,
   "metadata": {},
   "outputs": [],
   "source": [
    "arr4=np.array([1,2,3,4,5],dtype='float64')\n",
    "print(arr4.dtype)\n",
    "\n",
    "arr5=np.array([1,2,3,4,5])\n",
    "print('Before change:',arr5.dtype)\n",
    "arr5.dtype='float32'\n",
    "print('After change:',arr5.dtype)"
   ]
  },
  {
   "cell_type": "markdown",
   "metadata": {},
   "source": [
    "### astype\n",
    "不改变原数组类型"
   ]
  },
  {
   "cell_type": "code",
   "execution_count": null,
   "metadata": {},
   "outputs": [],
   "source": [
    "arr6=np.array([1,2,3,4,5])\n",
    "arr7=arr6.astype('float64') #arr6.astype(float)\n",
    "print(arr6.dtype)\n",
    "print(arr7,arr7.dtype)"
   ]
  },
  {
   "cell_type": "markdown",
   "metadata": {},
   "source": [
    "## 副本copy与视图view\n",
    "副本是一个新数组:副本和原始数组中数据的修改不会影响彼此的变化,使用copy方法\n",
    "视图本身并不拥有数据:视图和原始数组数据的修改保持一致,使用view方法创建"
   ]
  },
  {
   "cell_type": "code",
   "execution_count": null,
   "metadata": {},
   "outputs": [],
   "source": [
    "source_arr=np.array([1,2,3,4,5])\n",
    "copy_arr=source_arr.copy()\n",
    "print('source_arr:',source_arr)\n",
    "print('copy_arr',copy_arr)\n",
    "source_arr[0]=10\n",
    "copy_arr[2]=30\n",
    "print('Changed source_arr:',source_arr)\n",
    "print('Changed copy_arr',copy_arr)"
   ]
  },
  {
   "cell_type": "code",
   "execution_count": null,
   "metadata": {},
   "outputs": [],
   "source": [
    "view_arr=source_arr.view()\n",
    "print('source_arr:',source_arr)\n",
    "print('view_arr',view_arr)\n",
    "view_arr[0]=100\n",
    "source_arr[1]=200\n",
    "print('Changed source_arr:',source_arr)\n",
    "print('Changed view_arr',source_arr)"
   ]
  },
  {
   "cell_type": "markdown",
   "metadata": {},
   "source": [
    "base属性(指向原始数组的属性)：如果数组是视图，则指向原始数组(无数据);如果数组是副本或自包含的，则 base 为 None(有数据)。"
   ]
  },
  {
   "cell_type": "code",
   "execution_count": null,
   "metadata": {},
   "outputs": [],
   "source": [
    "print(source_arr.base)\n",
    "print(copy_arr.base)\n",
    "print(view_arr.base)"
   ]
  }
 ],
 "metadata": {
  "kernelspec": {
   "display_name": "d2l",
   "language": "python",
   "name": "python3"
  },
  "language_info": {
   "codemirror_mode": {
    "name": "ipython",
    "version": 3
   },
   "file_extension": ".py",
   "mimetype": "text/x-python",
   "name": "python",
   "nbconvert_exporter": "python",
   "pygments_lexer": "ipython3",
   "version": "3.11.4"
  }
 },
 "nbformat": 4,
 "nbformat_minor": 2
}
