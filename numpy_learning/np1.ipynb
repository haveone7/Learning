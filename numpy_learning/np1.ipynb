{
 "cells": [
  {
   "cell_type": "markdown",
   "metadata": {},
   "source": [
    "## array()创建ndarray数组"
   ]
  },
  {
   "cell_type": "code",
   "execution_count": 46,
   "metadata": {},
   "outputs": [
    {
     "name": "stdout",
     "output_type": "stream",
     "text": [
      "[1 2 3 4 5]\n",
      "<class 'numpy.ndarray'>\n"
     ]
    }
   ],
   "source": [
    "import numpy as np\n",
    "arr=np.array([1,2,3,4,5])\n",
    "print(arr)\n",
    "print(type(arr))"
   ]
  },
  {
   "cell_type": "code",
   "execution_count": 42,
   "metadata": {},
   "outputs": [
    {
     "name": "stdout",
     "output_type": "stream",
     "text": [
      "[1 2 3 4 5]\n",
      "<class 'numpy.ndarray'>\n"
     ]
    }
   ],
   "source": [
    "arr=np.array((1,2,3,4,5))\n",
    "print(arr)\n",
    "print(type(arr))# 输入可以是列表或者元组"
   ]
  },
  {
   "cell_type": "code",
   "execution_count": 62,
   "metadata": {},
   "outputs": [
    {
     "name": "stdout",
     "output_type": "stream",
     "text": [
      "[0. 0. 0. 0. 0.]\n"
     ]
    }
   ],
   "source": [
    "#  np.zeros创建一个全是0\n",
    "zeros_array = np.zeros(5)\n",
    "print(zeros_array) "
   ]
  },
  {
   "cell_type": "code",
   "execution_count": 63,
   "metadata": {},
   "outputs": [
    {
     "name": "stdout",
     "output_type": "stream",
     "text": [
      "[[1. 1. 1.]\n",
      " [1. 1. 1.]\n",
      " [1. 1. 1.]]\n",
      "[1. 1. 1. 1. 1.]\n"
     ]
    }
   ],
   "source": [
    "# np.ones创建一个全是1的矩阵\n",
    "ones_matrix = np.ones((3, 3))\n",
    "print(ones_matrix)\n",
    "print(np.ones_like(zeros_array))"
   ]
  },
  {
   "cell_type": "code",
   "execution_count": 45,
   "metadata": {},
   "outputs": [
    {
     "name": "stdout",
     "output_type": "stream",
     "text": [
      "[0 2 4 6 8]\n"
     ]
    }
   ],
   "source": [
    "# np.arange创建一个等差数列数组\n",
    "range_array = np.arange(0, 10, 2)  # 从0到10，步长为2\n",
    "print(range_array)"
   ]
  },
  {
   "cell_type": "code",
   "execution_count": 60,
   "metadata": {},
   "outputs": [
    {
     "name": "stdout",
     "output_type": "stream",
     "text": [
      "[-inf -inf -inf -inf -inf]\n",
      "[[1 4 3 5]\n",
      " [1 4 3 5]\n",
      " [1 4 3 5]]\n"
     ]
    }
   ],
   "source": [
    "# np.full创建以某以元素或数组填充的数组\n",
    "print(np.full(5,-np.inf))\n",
    "print(np.full((3,4),[1,4,3,5]))"
   ]
  },
  {
   "cell_type": "markdown",
   "metadata": {},
   "source": [
    "### linspace创建等距分布数组\n",
    "linspace(start,end,num,endpoint)<br>\n",
    "num:需要取的数量<br>\n",
    "endpoint:是否要右端点（默认true）<br>\n",
    "若需右端点，平均每份分d=（end-start）/（num-1）即[start,start+d,..,end]\n",
    "无需右端点，平均每份分d=（end-start）/ num即[start,start+d,..,end-d]"
   ]
  },
  {
   "cell_type": "code",
   "execution_count": 51,
   "metadata": {},
   "outputs": [
    {
     "name": "stdout",
     "output_type": "stream",
     "text": [
      "[ 0.   7.5 15.  22.5 30. ]\n",
      "[ 0.  6. 12. 18. 24.]\n"
     ]
    }
   ],
   "source": [
    "arr=np.linspace(0,30,5)\n",
    "print(arr)\n",
    "arr=np.linspace(0,30,5,endpoint=False)\n",
    "print(arr)"
   ]
  },
  {
   "cell_type": "code",
   "execution_count": 59,
   "metadata": {},
   "outputs": [
    {
     "name": "stdout",
     "output_type": "stream",
     "text": [
      "[0. 1. 2. 3. 4. 5.]\n",
      "[1.e+00 1.e+01 1.e+02 1.e+03 1.e+04 1.e+05]\n"
     ]
    }
   ],
   "source": [
    "arr0=np.linspace(0,5,6)\n",
    "print(arr0)\n",
    "# logspace\n",
    "# 设结果arr=[a1,...,an],则ai=10^arr0[i],即ai取10的对数后是等距的[10,100,1000]=>[1,2,3]\n",
    "arr=np.logspace(0,5,6)\n",
    "print(arr)"
   ]
  },
  {
   "cell_type": "markdown",
   "metadata": {},
   "source": [
    "## np.random模块\n",
    "\n",
    "https://zhuanlan.zhihu.com/p/474425448"
   ]
  },
  {
   "cell_type": "code",
   "execution_count": 45,
   "metadata": {},
   "outputs": [],
   "source": [
    "# np.random.seed设置随机数种子\n",
    "# np.random.seed(20)\n",
    "# np.random.seed(None)"
   ]
  },
  {
   "cell_type": "markdown",
   "metadata": {},
   "source": [
    "### np.random.rand():生成指定维度的的[0,1)范围之间的随机数\n",
    "输入参数为维度"
   ]
  },
  {
   "cell_type": "code",
   "execution_count": 5,
   "metadata": {},
   "outputs": [
    {
     "name": "stdout",
     "output_type": "stream",
     "text": [
      "[0.81826786 0.55240935 0.90427147]\n",
      "[[0.0386031  0.67726865 0.61176765 0.22595259]\n",
      " [0.27087174 0.87960217 0.60437458 0.84329482]\n",
      " [0.38570471 0.870824   0.4684418  0.66411458]]\n"
     ]
    }
   ],
   "source": [
    "print(np.random.rand(3)) # 一维\n",
    "print(np.random.rand(3,4)) #二维"
   ]
  },
  {
   "cell_type": "markdown",
   "metadata": {},
   "source": [
    "### np.random.randn():生成指定维度的服从标准正态分布的随机数\n",
    "输入参数为维度"
   ]
  },
  {
   "cell_type": "code",
   "execution_count": 44,
   "metadata": {},
   "outputs": [
    {
     "name": "stdout",
     "output_type": "stream",
     "text": [
      "[0.88389311 0.19586502 0.35753652]\n",
      "[[-2.34326191 -1.08483259  0.55969629  0.93946935]\n",
      " [-0.97848104  0.50309684  0.40641447  0.32346101]\n",
      " [-0.49341088 -0.79201679 -0.84236793 -1.27950266]]\n"
     ]
    }
   ],
   "source": [
    "print(np.random.randn(3)) # 一维\n",
    "print(np.random.randn(3,4)) #二维"
   ]
  },
  {
   "cell_type": "markdown",
   "metadata": {},
   "source": [
    "### random.randint()生成指定范围和维度的整数\n",
    "random.randint(low, high=None, size=None, dtype=int)<br>\n",
    "low:只含low时，生成[0,low)范围整数<br>\n",
    "high:生成[low,high)范围整数<br>\n",
    "size：维度形状<br>\n",
    "np.random.random_integers()：返回范围为[low,high] 闭区间 随机整数；可放回的抽样取数<br>"
   ]
  },
  {
   "cell_type": "code",
   "execution_count": 35,
   "metadata": {},
   "outputs": [
    {
     "name": "stdout",
     "output_type": "stream",
     "text": [
      "16\n",
      "5\n",
      "[[15 16 11]\n",
      " [11 17  9]\n",
      " [ 8 18 10]\n",
      " [ 8 11 13]]\n"
     ]
    }
   ],
   "source": [
    "print(np.random.randint(low=20))\n",
    "print(np.random.randint(1,10))\n",
    "print(np.random.randint(1,20,size=(4,3)))"
   ]
  },
  {
   "cell_type": "markdown",
   "metadata": {},
   "source": [
    "### np.random.random()返回0-1之间指定维度下的随机数\n",
    "输入参数为维度（size）"
   ]
  },
  {
   "cell_type": "code",
   "execution_count": 39,
   "metadata": {},
   "outputs": [
    {
     "name": "stdout",
     "output_type": "stream",
     "text": [
      "0.3229514914466709\n",
      "[[0.45693643 0.4890434  0.73819155]\n",
      " [0.76741619 0.35253204 0.00442042]]\n"
     ]
    }
   ],
   "source": [
    "print(np.random.random())\n",
    "print(np.random.random(size=(2,3)))"
   ]
  },
  {
   "cell_type": "markdown",
   "metadata": {},
   "source": [
    "## numpy维度和维度查询ndim函数"
   ]
  },
  {
   "cell_type": "code",
   "execution_count": 47,
   "metadata": {},
   "outputs": [
    {
     "name": "stdout",
     "output_type": "stream",
     "text": [
      "527 0\n"
     ]
    }
   ],
   "source": [
    "# 0维，单个数据\n",
    "a=np.array(527)\n",
    "print(a,a.ndim)"
   ]
  },
  {
   "cell_type": "code",
   "execution_count": 48,
   "metadata": {},
   "outputs": [
    {
     "name": "stdout",
     "output_type": "stream",
     "text": [
      "[5 2 7] 1\n"
     ]
    }
   ],
   "source": [
    "# 1维，向量\n",
    "b=np.array([5,2,7])\n",
    "print(b,b.ndim)"
   ]
  },
  {
   "cell_type": "code",
   "execution_count": 49,
   "metadata": {},
   "outputs": [
    {
     "name": "stdout",
     "output_type": "stream",
     "text": [
      "[[5 2 7]\n",
      " [7 0 7]] 2\n"
     ]
    }
   ],
   "source": [
    "# 2维，矩阵\n",
    "c=np.array([[5,2,7],[7,0,7]])\n",
    "print(c,c.ndim)"
   ]
  },
  {
   "cell_type": "code",
   "execution_count": 50,
   "metadata": {},
   "outputs": [
    {
     "name": "stdout",
     "output_type": "stream",
     "text": [
      "[[[1 2 3]\n",
      "  [4 5 6]]\n",
      "\n",
      " [[6 5 4]\n",
      "  [3 2 1]]] 3\n"
     ]
    }
   ],
   "source": [
    "# 3维，堆叠的矩阵\n",
    "d=np.array([[[1,2,3],[4,5,6]],\n",
    "            [[6,5,4],[3,2,1]]])\n",
    "print(d,d.ndim)"
   ]
  },
  {
   "cell_type": "code",
   "execution_count": 51,
   "metadata": {},
   "outputs": [
    {
     "name": "stdout",
     "output_type": "stream",
     "text": [
      "[[[1 2 3]]]\n"
     ]
    }
   ],
   "source": [
    "# ndmin指定维数\n",
    "print(np.array([1,2,3],ndmin=3))"
   ]
  },
  {
   "cell_type": "markdown",
   "metadata": {},
   "source": [
    "## 元素访问\n",
    "索引从0开始（可以是负数索引，即-n则倒数第n个）<br>\n",
    "维度之间逗号分隔：[d_0i,d_1j,...,d_nm]，d_ij即第i维第j个元素。:则代表全部元素<br>\n",
    "维度划分：括号由外向内分别是0，1，...，n维<br>\n",
    "[ [ [1 2 3]]]<br>\n",
    "0 1 2维<br>"
   ]
  },
  {
   "cell_type": "code",
   "execution_count": 52,
   "metadata": {},
   "outputs": [
    {
     "name": "stdout",
     "output_type": "stream",
     "text": [
      "6\n",
      "6\n",
      "[2 5]\n"
     ]
    }
   ],
   "source": [
    "arr23=np.array([[1,2,3],\n",
    "               [4,5,6]])\n",
    "print(arr23[1,2])\n",
    "print(arr23[-1,2])\n",
    "print(arr23[:,1]) #第1维上第1的全部元素，此处即第1列（0开始）的元素"
   ]
  },
  {
   "cell_type": "markdown",
   "metadata": {},
   "source": [
    "## 数组裁剪（和python的list一致）\n",
    "``arr[start:end:step]``<br>\n",
    "**start**:起始索引（切片包含该元素），不传默认为0 <br>\n",
    "**end**：结束索引（切片不包含该元素）<br>\n",
    "**step**：步长，不传默认为1 <br>\n",
    "支持负数索引"
   ]
  },
  {
   "cell_type": "code",
   "execution_count": 53,
   "metadata": {},
   "outputs": [
    {
     "name": "stdout",
     "output_type": "stream",
     "text": [
      "[0 1 2 3 4 5 6]\n"
     ]
    }
   ],
   "source": [
    "# arange函数,[start,end,step]以逗号分隔\n",
    "arr7=np.arange(0,7,1) #np.arange(7)\n",
    "print(arr7)"
   ]
  },
  {
   "cell_type": "code",
   "execution_count": 54,
   "metadata": {},
   "outputs": [
    {
     "name": "stdout",
     "output_type": "stream",
     "text": [
      "[3 4 5 6]\n",
      "[0 1 2 3 4]\n",
      "[0 2 4 6]\n",
      "[4 3 2 1]\n"
     ]
    }
   ],
   "source": [
    "print(arr7[3:]) \n",
    "print(arr7[:5])\n",
    "print(arr7[::2])\n",
    "print(arr7[4:0:-1])"
   ]
  },
  {
   "cell_type": "code",
   "execution_count": 55,
   "metadata": {},
   "outputs": [
    {
     "name": "stdout",
     "output_type": "stream",
     "text": [
      "[[ 7  8]\n",
      " [11 12]]\n"
     ]
    }
   ],
   "source": [
    "# 2-D数组,维度之间','分隔\n",
    "arr34=np.array([[1,2,3,4],\n",
    "               [5,6,7,8],\n",
    "               [9,10,11,12]])\n",
    "print(arr34[1:,2:]) #1:即第1行以后，2：即第2个开始取"
   ]
  }
 ],
 "metadata": {
  "kernelspec": {
   "display_name": "Python 3 (ipykernel)",
   "language": "python",
   "name": "python3"
  },
  "language_info": {
   "codemirror_mode": {
    "name": "ipython",
    "version": 3
   },
   "file_extension": ".py",
   "mimetype": "text/x-python",
   "name": "python",
   "nbconvert_exporter": "python",
   "pygments_lexer": "ipython3",
   "version": "3.11.4"
  }
 },
 "nbformat": 4,
 "nbformat_minor": 4
}
