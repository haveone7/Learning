{
 "cells": [
  {
   "cell_type": "markdown",
   "metadata": {},
   "source": [
    "# 数据操作"
   ]
  },
  {
   "cell_type": "markdown",
   "metadata": {},
   "source": [
    "## 数组的迭代"
   ]
  },
  {
   "cell_type": "markdown",
   "metadata": {},
   "source": [
    "### for循环遍历"
   ]
  },
  {
   "cell_type": "code",
   "execution_count": 1,
   "metadata": {
    "ExecuteTime": {
     "end_time": "2023-11-21T13:58:50.236618Z",
     "start_time": "2023-11-21T13:58:50.133717Z"
    }
   },
   "outputs": [],
   "source": [
    "import numpy as np"
   ]
  },
  {
   "cell_type": "code",
   "execution_count": 2,
   "metadata": {
    "ExecuteTime": {
     "end_time": "2023-11-21T13:58:50.244122Z",
     "start_time": "2023-11-21T13:58:50.238614Z"
    },
    "scrolled": true
   },
   "outputs": [
    {
     "name": "stdout",
     "output_type": "stream",
     "text": [
      "0\n",
      "1\n",
      "2\n",
      "3\n",
      "4\n",
      "5\n",
      "6\n",
      "7\n",
      "8\n",
      "9\n",
      "10\n",
      "11\n"
     ]
    }
   ],
   "source": [
    "# 一维数组\n",
    "arr1d=np.arange(12)\n",
    "for x in arr1d:\n",
    "    print(x)"
   ]
  },
  {
   "cell_type": "code",
   "execution_count": 3,
   "metadata": {
    "ExecuteTime": {
     "end_time": "2023-11-21T13:58:50.251631Z",
     "start_time": "2023-11-21T13:58:50.248449Z"
    }
   },
   "outputs": [
    {
     "name": "stdout",
     "output_type": "stream",
     "text": [
      "[0 1 2]\n",
      "[3 4 5]\n",
      "[6 7 8]\n",
      "[ 9 10 11]\n"
     ]
    }
   ],
   "source": [
    "# 二维数组\n",
    "arr2d=arr1d.reshape(4,3)\n",
    "for X in arr2d:\n",
    "    print(X)"
   ]
  },
  {
   "cell_type": "code",
   "execution_count": 4,
   "metadata": {
    "ExecuteTime": {
     "end_time": "2023-11-21T13:58:50.258412Z",
     "start_time": "2023-11-21T13:58:50.254627Z"
    }
   },
   "outputs": [
    {
     "name": "stdout",
     "output_type": "stream",
     "text": [
      "[[0 1 2]\n",
      " [3 4 5]]\n",
      "[[ 6  7  8]\n",
      " [ 9 10 11]]\n"
     ]
    }
   ],
   "source": [
    "# 三维数组\n",
    "arr3d=arr1d.reshape(2,2,3)\n",
    "for A in arr3d:\n",
    "    print(A)"
   ]
  },
  {
   "cell_type": "markdown",
   "metadata": {},
   "source": [
    "### nditer逐个访问元素"
   ]
  },
  {
   "cell_type": "code",
   "execution_count": 5,
   "metadata": {
    "ExecuteTime": {
     "end_time": "2023-11-21T13:58:50.266156Z",
     "start_time": "2023-11-21T13:58:50.261411Z"
    }
   },
   "outputs": [
    {
     "name": "stdout",
     "output_type": "stream",
     "text": [
      "0\n",
      "1\n",
      "2\n",
      "3\n",
      "4\n",
      "5\n",
      "6\n",
      "7\n",
      "8\n",
      "9\n",
      "10\n",
      "11\n"
     ]
    }
   ],
   "source": [
    "for x in np.nditer(arr3d):\n",
    "    print(x)"
   ]
  },
  {
   "cell_type": "code",
   "execution_count": 6,
   "metadata": {
    "ExecuteTime": {
     "end_time": "2023-11-21T14:05:02.380581Z",
     "start_time": "2023-11-21T14:05:02.375088Z"
    }
   },
   "outputs": [
    {
     "name": "stdout",
     "output_type": "stream",
     "text": [
      "0.0\n",
      "1.0\n",
      "2.0\n",
      "3.0\n",
      "4.0\n",
      "5.0\n",
      "6.0\n",
      "7.0\n",
      "8.0\n",
      "9.0\n",
      "10.0\n",
      "11.0\n"
     ]
    }
   ],
   "source": [
    "# 用别的字符类型处理\n",
    "# op_dtypes=['']: 设置类型\n",
    "# flags=['buffered']：因为原数组不变，需设置固定结构flags=['buffered']变量作为缓冲\n",
    "\n",
    "for x in np.nditer(arr3d,op_dtypes=float,flags=['buffered']):\n",
    "    print(x)"
   ]
  },
  {
   "cell_type": "markdown",
   "metadata": {},
   "source": [
    "### ndenumerate枚举元素并返回索引"
   ]
  },
  {
   "cell_type": "code",
   "execution_count": 7,
   "metadata": {
    "ExecuteTime": {
     "end_time": "2023-11-21T14:08:44.287847Z",
     "start_time": "2023-11-21T14:08:44.284339Z"
    }
   },
   "outputs": [
    {
     "name": "stdout",
     "output_type": "stream",
     "text": [
      "(0, 0) 0\n",
      "(0, 1) 1\n",
      "(0, 2) 2\n",
      "(1, 0) 3\n",
      "(1, 1) 4\n",
      "(1, 2) 5\n",
      "(2, 0) 6\n",
      "(2, 1) 7\n",
      "(2, 2) 8\n",
      "(3, 0) 9\n",
      "(3, 1) 10\n",
      "(3, 2) 11\n"
     ]
    }
   ],
   "source": [
    "for idx,x in np.ndenumerate(arr2d):\n",
    "    print(idx,x)"
   ]
  },
  {
   "cell_type": "markdown",
   "metadata": {},
   "source": [
    "## 数组的连接"
   ]
  },
  {
   "cell_type": "markdown",
   "metadata": {},
   "source": [
    "### concatenate连接数组\n",
    "\n",
    "(arr1,arr2,...arrn):n个需要连接的数组<br>\n",
    "axis：需要连接的轴[ [ [] ] ],由外向内依次是0,1,...m个维度<br>\n",
    "假设连接的维数为x，连接后shape：d0* d1 *...d(x-1) *sum(dx_(1->n)) * d(x+1) * ... *dm"
   ]
  },
  {
   "cell_type": "code",
   "execution_count": 8,
   "metadata": {},
   "outputs": [
    {
     "name": "stdout",
     "output_type": "stream",
     "text": [
      "[[ 1  2  3]\n",
      " [ 4  5  6]\n",
      " [ 7  8  9]\n",
      " [10 20 30]\n",
      " [40 50 60]] (5, 3)\n"
     ]
    }
   ],
   "source": [
    "arr1=np.array([[1,2,3],\n",
    "               [4,5,6],\n",
    "               [7,8,9]])\n",
    "arr2=np.array([[10,20,30],\n",
    "              [40,50,60]])\n",
    "arr_12=np.concatenate((arr1,arr2)) # 4*3\n",
    "print(arr_12,arr_12.shape)"
   ]
  },
  {
   "cell_type": "code",
   "execution_count": 9,
   "metadata": {},
   "outputs": [
    {
     "name": "stdout",
     "output_type": "stream",
     "text": [
      "[[ 1  2  3  4  5 10 20 30]\n",
      " [ 4  5  6  7  8 40 50 60]] (2, 8)\n"
     ]
    }
   ],
   "source": [
    "arr1=np.array([[1,2,3,4,5],\n",
    "               [4,5,6,7,8]])\n",
    "arr2=np.array([[10,20,30],\n",
    "              [40,50,60]])\n",
    "arr_12=np.concatenate((arr1,arr2),axis=1)\n",
    "print(arr_12,arr_12.shape)"
   ]
  },
  {
   "cell_type": "markdown",
   "metadata": {},
   "source": [
    "### stack连接数组(额外增加一个维度)\n",
    "\n",
    "(arr1,arr2,...arrn):n个需要连接的数组<br>\n",
    "axis：需要连接(增加)的轴[ [ [] ] ],由外向内依次是0,1,...m个维度<br>\n",
    "假设连接的维数为x，连接后shape：d0* d1 * ...sum(d(x-1)_(1->n)) * dx_(1->n) *...*d(m+1)"
   ]
  },
  {
   "cell_type": "code",
   "execution_count": 10,
   "metadata": {},
   "outputs": [
    {
     "name": "stdout",
     "output_type": "stream",
     "text": [
      "[[[ 1  2  3  4]\n",
      "  [ 4  5  6  7]]\n",
      "\n",
      " [[10 20 30 40]\n",
      "  [40 50 60 70]]] (2, 2, 4)\n",
      "[[[ 1 10]\n",
      "  [ 2 20]\n",
      "  [ 3 30]\n",
      "  [ 4 40]]\n",
      "\n",
      " [[ 4 40]\n",
      "  [ 5 50]\n",
      "  [ 6 60]\n",
      "  [ 7 70]]] (2, 4, 2)\n"
     ]
    }
   ],
   "source": [
    "arr1=np.array([[1,2,3,4],\n",
    "               [4,5,6,7]])\n",
    "arr2=np.array([[10,20,30,40],\n",
    "              [40,50,60,70]])\n",
    "arr_12=np.stack((arr1,arr2))\n",
    "print(arr_12,arr_12.shape)\n",
    "arr_12=np.stack((arr1,arr2),axis=2) #可以为2\n",
    "print(arr_12,arr_12.shape)"
   ]
  },
  {
   "cell_type": "markdown",
   "metadata": {},
   "source": [
    "### 按行(hstack)、按列(vstack)、按高(dstack)堆叠"
   ]
  },
  {
   "cell_type": "code",
   "execution_count": 11,
   "metadata": {
    "notebookRunGroups": {
     "groupValue": "1"
    }
   },
   "outputs": [
    {
     "name": "stdout",
     "output_type": "stream",
     "text": [
      "[[ 1  2  3 10 20 30]\n",
      " [ 4  5  6 40 50 60]] (2, 6)\n",
      "[[ 1  2  3]\n",
      " [ 4  5  6]\n",
      " [10 20 30]\n",
      " [40 50 60]] (4, 3)\n",
      "[[[ 1 10]\n",
      "  [ 2 20]\n",
      "  [ 3 30]]\n",
      "\n",
      " [[ 4 40]\n",
      "  [ 5 50]\n",
      "  [ 6 60]]] (2, 3, 2)\n"
     ]
    }
   ],
   "source": [
    "arr1=np.array([[1,2,3],\n",
    "               [4,5,6]])\n",
    "arr2=np.array([[10,20,30],\n",
    "              [40,50,60]])\n",
    "a1=np.hstack((arr1,arr2))\n",
    "a2=np.vstack((arr1,arr2))\n",
    "a3=np.dstack((arr1,arr2))\n",
    "print(a1,a1.shape)\n",
    "print(a2,a2.shape)\n",
    "print(a3,a3.shape)"
   ]
  },
  {
   "cell_type": "markdown",
   "metadata": {},
   "source": [
    "## 数组拆分"
   ]
  },
  {
   "cell_type": "markdown",
   "metadata": {},
   "source": [
    "### array_spilt拆分数组\n",
    "axis：指定分隔轴，默认0"
   ]
  },
  {
   "cell_type": "code",
   "execution_count": 12,
   "metadata": {},
   "outputs": [
    {
     "name": "stdout",
     "output_type": "stream",
     "text": [
      "[array([1, 2]), array([3, 4]), array([5, 6])]\n",
      "[array([1, 2]), array([3, 4]), array([5, 6])]\n"
     ]
    }
   ],
   "source": [
    "arr_6=np.arange(1,7)\n",
    "# 拆分份数能整除\n",
    "print(np.array_split(arr_6,3))\n",
    "print(np.split(arr_6,3))"
   ]
  },
  {
   "cell_type": "code",
   "execution_count": 13,
   "metadata": {},
   "outputs": [
    {
     "name": "stdout",
     "output_type": "stream",
     "text": [
      "[array([1, 2]), array([3, 4]), array([5]), array([6])]\n"
     ]
    }
   ],
   "source": [
    "print(np.array_split(arr_6,4))\n",
    "# print(np.split(arr_6,4)) #报错"
   ]
  },
  {
   "cell_type": "code",
   "execution_count": 14,
   "metadata": {},
   "outputs": [
    {
     "name": "stdout",
     "output_type": "stream",
     "text": [
      "[array([[1, 2, 3, 4]]), array([[5, 6, 7, 8]]), array([[ 9, 10, 11, 12]])]\n",
      "[array([[1],\n",
      "       [5],\n",
      "       [9]]), array([[ 2],\n",
      "       [ 6],\n",
      "       [10]]), array([[ 3],\n",
      "       [ 7],\n",
      "       [11]]), array([[ 4],\n",
      "       [ 8],\n",
      "       [12]])]\n"
     ]
    }
   ],
   "source": [
    "arr34=np.arange(1,13).reshape(3,4)\n",
    "# print(arr34.base) #[ 1  2  3  4  5  6  7  8  9 10 11 12]\n",
    "print(np.array_split(arr34,3))\n",
    "print(np.array_split(arr34,4,axis=1))"
   ]
  },
  {
   "cell_type": "code",
   "execution_count": 15,
   "metadata": {},
   "outputs": [
    {
     "name": "stdout",
     "output_type": "stream",
     "text": [
      "[array([[1],\n",
      "       [5],\n",
      "       [9]]), array([[ 2],\n",
      "       [ 6],\n",
      "       [10]]), array([[ 3],\n",
      "       [ 7],\n",
      "       [11]]), array([[ 4],\n",
      "       [ 8],\n",
      "       [12]])]\n"
     ]
    }
   ],
   "source": [
    "# hsplit按列拆分\n",
    "print(np.hsplit(arr34,4))"
   ]
  },
  {
   "cell_type": "markdown",
   "metadata": {},
   "source": [
    "## 数组搜索"
   ]
  },
  {
   "cell_type": "markdown",
   "metadata": {},
   "source": [
    "### where返回value的索引\n",
    "where(表达式)\n",
    "argwhere返回值"
   ]
  },
  {
   "cell_type": "code",
   "execution_count": 45,
   "metadata": {},
   "outputs": [
    {
     "name": "stdout",
     "output_type": "stream",
     "text": [
      "(array([2, 4], dtype=int64),)\n",
      "(array([0, 6], dtype=int64),)\n",
      "[[2]\n",
      " [4]]\n"
     ]
    }
   ],
   "source": [
    "arr_7=np.array([1,2,3,4,3,2,1])\n",
    "print(np.where(arr_7==3))\n",
    "print(np.where(arr_7==1))\n",
    "print(np.argwhere(arr_7==3))"
   ]
  },
  {
   "cell_type": "code",
   "execution_count": 17,
   "metadata": {},
   "outputs": [
    {
     "name": "stdout",
     "output_type": "stream",
     "text": [
      "(array([1, 3, 5], dtype=int64),)\n"
     ]
    }
   ],
   "source": [
    "# 取出偶数\n",
    "print(np.where(arr_7%2==0))"
   ]
  },
  {
   "cell_type": "markdown",
   "metadata": {},
   "source": [
    "### searchsorted在已排序数组中查找元素插入位置\n",
    "待插值：一个数字或一个列表<br>\n",
    "side:'left'（默认）或'right'，从哪边寻找<br>\n",
    "从左边查找：寻找i满足a[i-1]<插入值<=a[i]<br>\n",
    "从右边查找：寻找i满足a[i]<=插入值< a[i+1]<br>"
   ]
  },
  {
   "cell_type": "code",
   "execution_count": 18,
   "metadata": {},
   "outputs": [
    {
     "name": "stdout",
     "output_type": "stream",
     "text": [
      "4\n",
      "5\n",
      "[0 2 5]\n"
     ]
    }
   ],
   "source": [
    "arr = np.array([1, 3, 5, 7, 9, 11])\n",
    "print(np.searchsorted(arr, 9))\n",
    "print(np.searchsorted(arr, 9, side='right'))\n",
    "print(np.searchsorted(arr, [0, 5, 10]))"
   ]
  },
  {
   "cell_type": "markdown",
   "metadata": {},
   "source": [
    "## 数组排序\n",
    "sort():不改变原数组顺序,且生成新的数据（base=None）\n",
    "axis:默认-1，可指定排序维度\n",
    "kind：排序规则，有三个选项:quicksort,mergesort,heapsort\n"
   ]
  },
  {
   "cell_type": "code",
   "execution_count": 32,
   "metadata": {},
   "outputs": [
    {
     "name": "stdout",
     "output_type": "stream",
     "text": [
      "[ 4 16 10 12  8  3  1  9 17  7]\n",
      "[ 1  3  4  7  8  9 10 12 16 17] None\n"
     ]
    }
   ],
   "source": [
    "np.random.seed(20)\n",
    "# np.random.seed(None)\n",
    "arr=np.random.randint(1,20,size=10)\n",
    "arr_sorted=np.sort(arr)\n",
    "print(arr)\n",
    "print(arr_sorted,arr_sorted.base)"
   ]
  },
  {
   "cell_type": "code",
   "execution_count": 36,
   "metadata": {},
   "outputs": [
    {
     "name": "stdout",
     "output_type": "stream",
     "text": [
      "[[11  4 19  7]\n",
      " [10 15  5 12]\n",
      " [ 9  7 16 19]]\n",
      "[[ 4  7 11 19]\n",
      " [ 5 10 12 15]\n",
      " [ 7  9 16 19]]\n",
      "[[ 9  4  5  7]\n",
      " [10  7 16 12]\n",
      " [11 15 19 19]]\n"
     ]
    }
   ],
   "source": [
    "# 二维数组，默认只对最后一维排序\n",
    "arr=np.random.randint(1,20,size=12).reshape(3,4)\n",
    "print(arr)\n",
    "print(np.sort(arr))\n",
    "print(np.sort(arr,axis=0))"
   ]
  },
  {
   "cell_type": "markdown",
   "metadata": {},
   "source": [
    "## 数组过滤"
   ]
  },
  {
   "cell_type": "code",
   "execution_count": 38,
   "metadata": {},
   "outputs": [
    {
     "name": "stdout",
     "output_type": "stream",
     "text": [
      "[ 9 17 17 11  7 10  1 13 15 18]\n",
      "[False  True  True  True False False False  True  True  True]\n",
      "[17 17 11 13 15 18]\n"
     ]
    }
   ],
   "source": [
    "arr=np.random.randint(1,20,size=10)\n",
    "arr_fliter=arr>10\n",
    "print(arr)\n",
    "print(arr_fliter)\n",
    "print(arr[arr_fliter])"
   ]
  },
  {
   "cell_type": "markdown",
   "metadata": {},
   "source": [
    "## squeeze数组降维"
   ]
  },
  {
   "cell_type": "code",
   "execution_count": 44,
   "metadata": {},
   "outputs": [
    {
     "name": "stdout",
     "output_type": "stream",
     "text": [
      "(1, 1, 1, 1, 3)\n",
      "(3,)\n"
     ]
    }
   ],
   "source": [
    "arr=np.array([1,2,3],ndmin=5)\n",
    "print(arr.shape)\n",
    "print(np.squeeze(arr).shape)"
   ]
  }
 ],
 "metadata": {
  "kernelspec": {
   "display_name": "Python 3 (ipykernel)",
   "language": "python",
   "name": "python3"
  },
  "language_info": {
   "codemirror_mode": {
    "name": "ipython",
    "version": 3
   },
   "file_extension": ".py",
   "mimetype": "text/x-python",
   "name": "python",
   "nbconvert_exporter": "python",
   "pygments_lexer": "ipython3",
   "version": "3.11.4"
  },
  "toc": {
   "base_numbering": 1,
   "nav_menu": {},
   "number_sections": true,
   "sideBar": true,
   "skip_h1_title": false,
   "title_cell": "Table of Contents",
   "title_sidebar": "Contents",
   "toc_cell": false,
   "toc_position": {
    "height": "calc(100% - 180px)",
    "left": "10px",
    "top": "150px",
    "width": "325px"
   },
   "toc_section_display": true,
   "toc_window_display": true
  },
  "varInspector": {
   "cols": {
    "lenName": 16,
    "lenType": 16,
    "lenVar": 40
   },
   "kernels_config": {
    "python": {
     "delete_cmd_postfix": "",
     "delete_cmd_prefix": "del ",
     "library": "var_list.py",
     "varRefreshCmd": "print(var_dic_list())"
    },
    "r": {
     "delete_cmd_postfix": ") ",
     "delete_cmd_prefix": "rm(",
     "library": "var_list.r",
     "varRefreshCmd": "cat(var_dic_list()) "
    }
   },
   "types_to_exclude": [
    "module",
    "function",
    "builtin_function_or_method",
    "instance",
    "_Feature"
   ],
   "window_display": false
  }
 },
 "nbformat": 4,
 "nbformat_minor": 2
}
