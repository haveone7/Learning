{
 "cells": [
  {
   "cell_type": "markdown",
   "metadata": {},
   "source": [
    "# numpy运算"
   ]
  },
  {
   "cell_type": "markdown",
   "metadata": {},
   "source": [
    "## 单目运算\n",
    "数乘：k*arr  \n",
    "函数：sqrt,sin,cos,log,exp..."
   ]
  },
  {
   "cell_type": "code",
   "execution_count": 23,
   "metadata": {},
   "outputs": [],
   "source": [
    "import numpy as np"
   ]
  },
  {
   "cell_type": "code",
   "execution_count": 24,
   "metadata": {},
   "outputs": [
    {
     "name": "stdout",
     "output_type": "stream",
     "text": [
      "[ 5 10 15 20 25 30 35]\n",
      "[ 1  4  9 16 25 36 49]\n",
      "[ 0.84147098  0.90929743  0.14112001 -0.7568025  -0.95892427 -0.2794155\n",
      "  0.6569866 ]\n",
      "[0.         0.69314718 1.09861229 1.38629436 1.60943791 1.79175947\n",
      " 1.94591015]\n"
     ]
    }
   ],
   "source": [
    "arr=np.arange(1,8)\n",
    "print(5*arr)\n",
    "print(np.power(arr,2))\n",
    "print(np.sin(arr))\n",
    "print(np.log(arr))"
   ]
  },
  {
   "cell_type": "markdown",
   "metadata": {},
   "source": [
    "## 同维数组双目运算+-*/\n"
   ]
  },
  {
   "cell_type": "code",
   "execution_count": 25,
   "metadata": {},
   "outputs": [
    {
     "name": "stdout",
     "output_type": "stream",
     "text": [
      "[11 22 33 44 55 66 77]\n",
      "[ 10  40  90 160 250 360 490]\n"
     ]
    }
   ],
   "source": [
    "arr1=np.arange(1,8)\n",
    "arr2=np.arange(10,80,10)\n",
    "print(arr1+arr2)\n",
    "print(arr1*arr2)"
   ]
  },
  {
   "cell_type": "markdown",
   "metadata": {},
   "source": [
    "## 向量点乘dot和矩阵乘法@"
   ]
  },
  {
   "cell_type": "code",
   "execution_count": 26,
   "metadata": {},
   "outputs": [
    {
     "name": "stdout",
     "output_type": "stream",
     "text": [
      "1400\n",
      "[[ 500  600]\n",
      " [1140 1400]]\n"
     ]
    }
   ],
   "source": [
    "print(np.dot(arr1,arr2))\n",
    "arr1_24=np.arange(1,9).reshape(2,4)\n",
    "arr2_24=np.arange(10,90,10).reshape(4,2)\n",
    "print(arr1_24@arr2_24)"
   ]
  },
  {
   "cell_type": "markdown",
   "metadata": {},
   "source": [
    "## 降维操作\n",
    "axis:可以指定轴，默认则展平再求<br><br>\n",
    "求最大最小：min,max<br>\n",
    "求最大最小索引：argmin,argmax<br>\n",
    "求和：sum<br>\n",
    "求平均值：mean<br>\n",
    "求中位数：median<br>\n",
    "方差：var<br>\n",
    "标准差：std<br>"
   ]
  },
  {
   "cell_type": "code",
   "execution_count": 27,
   "metadata": {},
   "outputs": [
    {
     "name": "stdout",
     "output_type": "stream",
     "text": [
      "[12  4 15  6  2]\n",
      "2\n",
      "2\n"
     ]
    }
   ],
   "source": [
    "arr=np.random.randint(1,20,5)\n",
    "print(arr)\n",
    "print(np.min(arr))\n",
    "print(np.argmax(arr))"
   ]
  },
  {
   "cell_type": "code",
   "execution_count": 28,
   "metadata": {},
   "outputs": [
    {
     "name": "stdout",
     "output_type": "stream",
     "text": [
      "3.0\n",
      "3.0\n",
      "2.0\n"
     ]
    }
   ],
   "source": [
    "arr=np.arange(1,6)\n",
    "print(arr.mean()) #np.mean(arr)\n",
    "print(np.median(arr))\n",
    "print(arr.var()) # np.var(arr)"
   ]
  },
  {
   "cell_type": "code",
   "execution_count": 29,
   "metadata": {},
   "outputs": [
    {
     "name": "stdout",
     "output_type": "stream",
     "text": [
      "[[ 0  1  2  3]\n",
      " [ 4  5  6  7]\n",
      " [ 8  9 10 11]]\n",
      "[4. 5. 6. 7.]\n"
     ]
    }
   ],
   "source": [
    "arr_34=np.arange(12).reshape(3,4)\n",
    "print(arr_34)\n",
    "print(arr_34.mean(axis=0))#按列"
   ]
  },
  {
   "cell_type": "markdown",
   "metadata": {},
   "source": [
    "## 广播机制\n",
    "将数组复制扩充为相同维度在运算  <br>\n",
    "a+b:<br>\n",
    "a=[[1],[2],[3]]  =>   a=[[1,1],[2,2],[3,3]]   <br>\n",
    "b=[[10,20]]      =>   b=[[10,20],[10,20],[10,20]]   <br>"
   ]
  },
  {
   "cell_type": "code",
   "execution_count": 30,
   "metadata": {},
   "outputs": [
    {
     "name": "stdout",
     "output_type": "stream",
     "text": [
      "[[11 21]\n",
      " [12 22]\n",
      " [13 23]]\n"
     ]
    }
   ],
   "source": [
    "a=np.array([[1],[2],[3]])\n",
    "b=np.array([[10,20]])\n",
    "print(a+b)"
   ]
  }
 ],
 "metadata": {
  "kernelspec": {
   "display_name": "d2l",
   "language": "python",
   "name": "python3"
  },
  "language_info": {
   "codemirror_mode": {
    "name": "ipython",
    "version": 3
   },
   "file_extension": ".py",
   "mimetype": "text/x-python",
   "name": "python",
   "nbconvert_exporter": "python",
   "pygments_lexer": "ipython3",
   "version": "3.11.4"
  }
 },
 "nbformat": 4,
 "nbformat_minor": 2
}
