{
 "cells": [
  {
   "cell_type": "code",
   "execution_count": 4,
   "metadata": {},
   "outputs": [
    {
     "name": "stdout",
     "output_type": "stream",
     "text": [
      "hello word!\n"
     ]
    }
   ],
   "source": [
    "print('hello word!')"
   ]
  },
  {
   "cell_type": "code",
   "execution_count": 6,
   "metadata": {},
   "outputs": [
    {
     "name": "stderr",
     "output_type": "stream",
     "text": [
      "ERROR: Exception:\n",
      "Traceback (most recent call last):\n",
      "  File \"D:\\VS_Code_sets\\miniconda\\envs\\d2l\\lib\\site-packages\\pip\\_internal\\cli\\base_command.py\", line 180, in exc_logging_wrapper\n",
      "    status = run_func(*args)\n",
      "  File \"D:\\VS_Code_sets\\miniconda\\envs\\d2l\\lib\\site-packages\\pip\\_internal\\cli\\req_command.py\", line 248, in wrapper\n",
      "    return func(self, options, args)\n",
      "  File \"D:\\VS_Code_sets\\miniconda\\envs\\d2l\\lib\\site-packages\\pip\\_internal\\commands\\install.py\", line 324, in run\n",
      "    session = self.get_default_session(options)\n",
      "  File \"D:\\VS_Code_sets\\miniconda\\envs\\d2l\\lib\\site-packages\\pip\\_internal\\cli\\req_command.py\", line 98, in get_default_session\n",
      "    self._session = self.enter_context(self._build_session(options))\n",
      "  File \"D:\\VS_Code_sets\\miniconda\\envs\\d2l\\lib\\site-packages\\pip\\_internal\\cli\\req_command.py\", line 125, in _build_session\n",
      "    session = PipSession(\n",
      "  File \"D:\\VS_Code_sets\\miniconda\\envs\\d2l\\lib\\site-packages\\pip\\_internal\\network\\session.py\", line 398, in __init__\n",
      "    self.add_trusted_host(host, suppress_logging=True)\n",
      "  File \"D:\\VS_Code_sets\\miniconda\\envs\\d2l\\lib\\site-packages\\pip\\_internal\\network\\session.py\", line 424, in add_trusted_host\n",
      "    raise ValueError(f\"Trusted host URL must include a host part: {host!r}\")\n",
      "ValueError: Trusted host URL must include a host part: '#'\n",
      "Traceback (most recent call last):\n",
      "  File \"D:\\VS_Code_sets\\miniconda\\envs\\d2l\\Scripts\\pip-script.py\", line 10, in <module>\n",
      "    sys.exit(main())\n",
      "  File \"D:\\VS_Code_sets\\miniconda\\envs\\d2l\\lib\\site-packages\\pip\\_internal\\cli\\main.py\", line 79, in main\n",
      "    return command.main(cmd_args)\n",
      "  File \"D:\\VS_Code_sets\\miniconda\\envs\\d2l\\lib\\site-packages\\pip\\_internal\\cli\\base_command.py\", line 101, in main\n",
      "    return self._main(args)\n",
      "  File \"D:\\VS_Code_sets\\miniconda\\envs\\d2l\\lib\\site-packages\\pip\\_internal\\cli\\base_command.py\", line 236, in _main\n",
      "    self.handle_pip_version_check(options)\n",
      "  File \"D:\\VS_Code_sets\\miniconda\\envs\\d2l\\lib\\site-packages\\pip\\_internal\\cli\\req_command.py\", line 180, in handle_pip_version_check\n",
      "    session = self._build_session(\n",
      "  File \"D:\\VS_Code_sets\\miniconda\\envs\\d2l\\lib\\site-packages\\pip\\_internal\\cli\\req_command.py\", line 125, in _build_session\n",
      "    session = PipSession(\n",
      "  File \"D:\\VS_Code_sets\\miniconda\\envs\\d2l\\lib\\site-packages\\pip\\_internal\\network\\session.py\", line 398, in __init__\n",
      "    self.add_trusted_host(host, suppress_logging=True)\n",
      "  File \"D:\\VS_Code_sets\\miniconda\\envs\\d2l\\lib\\site-packages\\pip\\_internal\\network\\session.py\", line 424, in add_trusted_host\n",
      "    raise ValueError(f\"Trusted host URL must include a host part: {host!r}\")\n",
      "ValueError: Trusted host URL must include a host part: '#'\n"
     ]
    }
   ],
   "source": [
    "! pip install matplotlib"
   ]
  },
  {
   "cell_type": "code",
   "execution_count": 7,
   "metadata": {},
   "outputs": [
    {
     "ename": "ModuleNotFoundError",
     "evalue": "No module named 'matplotlib'",
     "output_type": "error",
     "traceback": [
      "\u001b[1;31m---------------------------------------------------------------------------\u001b[0m",
      "\u001b[1;31mModuleNotFoundError\u001b[0m                       Traceback (most recent call last)",
      "\u001b[1;32mc:\\Users\\24084\\Desktop\\task\\matplotlib_learning\\demo1.ipynb 单元格 3\u001b[0m line \u001b[0;36m1\n\u001b[1;32m----> <a href='vscode-notebook-cell:/c%3A/Users/24084/Desktop/task/matplotlib_learning/demo1.ipynb#W2sZmlsZQ%3D%3D?line=0'>1</a>\u001b[0m \u001b[39mimport\u001b[39;00m \u001b[39mmatplotlib\u001b[39;00m\n",
      "\u001b[1;31mModuleNotFoundError\u001b[0m: No module named 'matplotlib'"
     ]
    }
   ],
   "source": [
    "import matplotlib"
   ]
  }
 ],
 "metadata": {
  "kernelspec": {
   "display_name": "d2l",
   "language": "python",
   "name": "python3"
  },
  "language_info": {
   "codemirror_mode": {
    "name": "ipython",
    "version": 3
   },
   "file_extension": ".py",
   "mimetype": "text/x-python",
   "name": "python",
   "nbconvert_exporter": "python",
   "pygments_lexer": "ipython3",
   "version": "3.9.18"
  }
 },
 "nbformat": 4,
 "nbformat_minor": 2
}
