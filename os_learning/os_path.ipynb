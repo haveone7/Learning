{
 "cells": [
  {
   "cell_type": "code",
   "execution_count": 1,
   "metadata": {
    "tags": []
   },
   "outputs": [
    {
     "name": "stdout",
     "output_type": "stream",
     "text": [
      "0 img_lq\\lq_Set5\\lq_bird.png\n",
      "1 img_lq\\\\lq_Set5\\\\lq_baby.png\n",
      "2 img_lq/lq_Set5/lq_baby.png\n"
     ]
    }
   ],
   "source": [
    "import os\n",
    "\n",
    "# 三种格式的文件路径\n",
    "image_path0 = r'img_lq\\lq_Set5\\lq_bird.png' #windows默认\n",
    "image_path1 = r'img_lq\\\\lq_Set5\\\\lq_baby.png'\n",
    "image_path2 = r'img_lq/lq_Set5/lq_baby.png'\n",
    "image_path=[image_path0,image_path1,image_path2]\n",
    "\n",
    "for i in range(len(image_path)):\n",
    "    print(i,image_path[i])"
   ]
  },
  {
   "cell_type": "markdown",
   "metadata": {},
   "source": [
    "## os.getcwd()获取当前工作目录"
   ]
  },
  {
   "cell_type": "markdown",
   "metadata": {},
   "source": [
    "## relpath可用来获取相对路径(不是realpath)"
   ]
  },
  {
   "cell_type": "code",
   "execution_count": 2,
   "metadata": {},
   "outputs": [
    {
     "name": "stdout",
     "output_type": "stream",
     "text": [
      "c:\\Users\\24084\\Desktop\\learning\\os_learning\n",
      "b'c:\\\\Users\\\\24084\\\\Desktop\\\\learning\\\\os_learning'\n",
      "subfolder\\file.txt\n"
     ]
    }
   ],
   "source": [
    "# os.getcwd()获取当前工作目录\n",
    "# print(os.path.realpath(__file__)) #也可以获取文件路径，但jupyter无法运行\n",
    "print(os.getcwd())\n",
    "print(os.getcwdb())\n",
    "\n",
    "\n",
    "# realpath可用来获取相对路径\n",
    "# os.path.relpath(path, start)\n",
    "# path：要计算相对路径的目标路径。\n",
    "# start：作为参考起点的起始路径。如果省略，则默认为当前工作目录。\n",
    "\n",
    "start_path = '/Users/user/folder1'\n",
    "target_path = '/Users/user/folder1/subfolder/file.txt'\n",
    "print(os.path.relpath(target_path, start_path))"
   ]
  },
  {
   "cell_type": "markdown",
   "metadata": {},
   "source": [
    "## os.path.exists检查路径是否存在"
   ]
  },
  {
   "cell_type": "code",
   "execution_count": 3,
   "metadata": {},
   "outputs": [
    {
     "name": "stdout",
     "output_type": "stream",
     "text": [
      "False\n",
      "True\n"
     ]
    }
   ],
   "source": [
    "# os.path.exists检查路径是否存在\n",
    "print(os.path.exists(image_path0))\n",
    "print(os.path.exists(os.getcwdb()))"
   ]
  },
  {
   "cell_type": "markdown",
   "metadata": {},
   "source": [
    "## os.path.basename获取文件名"
   ]
  },
  {
   "cell_type": "code",
   "execution_count": 4,
   "metadata": {},
   "outputs": [
    {
     "name": "stdout",
     "output_type": "stream",
     "text": [
      "文件名: lq_bird.png\n",
      "文件名: lq_baby.png\n",
      "文件名: lq_baby.png\n"
     ]
    }
   ],
   "source": [
    "# os.path.basename获取文件名\n",
    "for i in range(len(image_path)):\n",
    "    print('文件名:',os.path.basename(image_path[i]))"
   ]
  },
  {
   "cell_type": "code",
   "execution_count": 5,
   "metadata": {},
   "outputs": [
    {
     "name": "stdout",
     "output_type": "stream",
     "text": [
      "文件目录： img_lq\\lq_Set5\n",
      "文件目录： img_lq\\\\lq_Set5\n",
      "文件目录： img_lq/lq_Set5\n"
     ]
    }
   ],
   "source": [
    "# os.path.dirname获取文件目录\n",
    "for i in range(len(image_path)):\n",
    "    print('文件目录：',os.path.dirname(image_path[i]))"
   ]
  },
  {
   "cell_type": "markdown",
   "metadata": {},
   "source": [
    "## os.path.join拼接获取文件"
   ]
  },
  {
   "cell_type": "code",
   "execution_count": 6,
   "metadata": {},
   "outputs": [
    {
     "name": "stdout",
     "output_type": "stream",
     "text": [
      "文件拼接: img_lq\\lq_Set5\\file.txt\n",
      "文件拼接: img_lq\\\\lq_Set5\\file.txt\n",
      "文件拼接: img_lq/lq_Set5\\file.txt\n"
     ]
    }
   ],
   "source": [
    "# os.path.join拼接获取文件,根据操作系统类型选择是'\\'（win）还是'/'(类unix)\n",
    "filename='file.txt'\n",
    "for i in range(len(image_path)):\n",
    "    dirname=os.path.dirname(image_path[i])\n",
    "    print('文件拼接:',os.path.join(dirname,filename))"
   ]
  },
  {
   "cell_type": "markdown",
   "metadata": {},
   "source": [
    "## os.path.isfile和os.path.isdir"
   ]
  },
  {
   "cell_type": "code",
   "execution_count": 7,
   "metadata": {},
   "outputs": [
    {
     "name": "stdout",
     "output_type": "stream",
     "text": [
      "True\n",
      "False\n"
     ]
    }
   ],
   "source": [
    "# os.path.isfile和os.path.isdir检查是文件还是目录\n",
    "filename=os.path.basename(image_path0)\n",
    "dirname=os.path.dirname(image_path0)\n",
    "print(os.path.isfile('os_path.ipynb'))\n",
    "print(os.path.isdir(dirname))"
   ]
  },
  {
   "cell_type": "markdown",
   "metadata": {},
   "source": [
    "## os.path.splitext拆分文件名和后缀"
   ]
  },
  {
   "cell_type": "code",
   "execution_count": 8,
   "metadata": {},
   "outputs": [
    {
     "name": "stdout",
     "output_type": "stream",
     "text": [
      "('os_path', '.ipynb')\n",
      "('img_lq\\\\lq_Set5\\\\lq_bird', '.png')\n"
     ]
    }
   ],
   "source": [
    "# os.path.splitext拆分文件名和后缀\n",
    "print(os.path.splitext('os_path.ipynb'))\n",
    "print(os.path.splitext(image_path0))"
   ]
  }
 ],
 "metadata": {
  "kernelspec": {
   "display_name": "Python 3 (ipykernel)",
   "language": "python",
   "name": "python3"
  },
  "language_info": {
   "codemirror_mode": {
    "name": "ipython",
    "version": 3
   },
   "file_extension": ".py",
   "mimetype": "text/x-python",
   "name": "python",
   "nbconvert_exporter": "python",
   "pygments_lexer": "ipython3",
   "version": "3.11.4"
  },
  "toc": {
   "base_numbering": 1,
   "nav_menu": {},
   "number_sections": true,
   "sideBar": true,
   "skip_h1_title": false,
   "title_cell": "Table of Contents",
   "title_sidebar": "Contents",
   "toc_cell": false,
   "toc_position": {},
   "toc_section_display": true,
   "toc_window_display": false
  },
  "varInspector": {
   "cols": {
    "lenName": 16,
    "lenType": 16,
    "lenVar": 40
   },
   "kernels_config": {
    "python": {
     "delete_cmd_postfix": "",
     "delete_cmd_prefix": "del ",
     "library": "var_list.py",
     "varRefreshCmd": "print(var_dic_list())"
    },
    "r": {
     "delete_cmd_postfix": ") ",
     "delete_cmd_prefix": "rm(",
     "library": "var_list.r",
     "varRefreshCmd": "cat(var_dic_list()) "
    }
   },
   "types_to_exclude": [
    "module",
    "function",
    "builtin_function_or_method",
    "instance",
    "_Feature"
   ],
   "window_display": false
  }
 },
 "nbformat": 4,
 "nbformat_minor": 4
}
