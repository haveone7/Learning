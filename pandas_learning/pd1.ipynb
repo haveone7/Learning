{
 "cells": [
  {
   "cell_type": "markdown",
   "metadata": {
    "tags": []
   },
   "source": [
    "# 基本用法"
   ]
  },
  {
   "cell_type": "code",
   "execution_count": 3,
   "metadata": {},
   "outputs": [],
   "source": [
    "import pandas as pd\n",
    "import numpy as np"
   ]
  },
  {
   "cell_type": "markdown",
   "metadata": {},
   "source": [
    "### Series序列"
   ]
  },
  {
   "cell_type": "code",
   "execution_count": 10,
   "metadata": {},
   "outputs": [
    {
     "name": "stdout",
     "output_type": "stream",
     "text": [
      "0    12.0\n",
      "1     NaN\n",
      "2    24.0\n",
      "dtype: float64\n",
      "0     apple\n",
      "1    banana\n",
      "2    cherry\n",
      "dtype: object\n"
     ]
    }
   ],
   "source": [
    "s1=pd.Series([12,np.nan,24])\n",
    "print(s1)\n",
    "s2=pd.Series(['apple','banana','cherry'])\n",
    "print(s2)"
   ]
  },
  {
   "cell_type": "markdown",
   "metadata": {},
   "source": [
    "### Categorical将数据准换为分类"
   ]
  },
  {
   "cell_type": "code",
   "execution_count": 16,
   "metadata": {},
   "outputs": [
    {
     "name": "stdout",
     "output_type": "stream",
     "text": [
      "['New York', 'London', 'New York', 'Paris', 'Tokyo', 'Paris']\n",
      "Categories (4, object): ['London', 'New York', 'Paris', 'Tokyo']\n"
     ]
    }
   ],
   "source": [
    "# 将 citys 列转换为分类类型\n",
    "citys=['New York', 'London', 'New York', 'Paris', 'Tokyo','Paris']\n",
    "print(pd.Categorical(citys))"
   ]
  },
  {
   "cell_type": "markdown",
   "metadata": {},
   "source": [
    "### Timestamp和timerange\n",
    "date_range:<br>\n",
    "起始时间：时间戳、字符串等\n",
    "periods：int型，时长"
   ]
  },
  {
   "cell_type": "code",
   "execution_count": 31,
   "metadata": {},
   "outputs": [
    {
     "name": "stdout",
     "output_type": "stream",
     "text": [
      "2023-11-22 00:00:00\n",
      "2023-11-22 00:00:00\n",
      "DatetimeIndex(['2023-11-22', '2023-11-23', '2023-11-24', '2023-11-25',\n",
      "               '2023-11-26', '2023-11-27'],\n",
      "              dtype='datetime64[ns]', freq='D')\n"
     ]
    }
   ],
   "source": [
    "# 创建一个时间戳对象\n",
    "st=pd.Timestamp(\"20231122\")\n",
    "print(st)\n",
    "d=pd.date_range(st,periods=6) # pd.date_range(\"20231122\",periods=6)\n",
    "print(d[0])\n",
    "print(d)"
   ]
  },
  {
   "cell_type": "markdown",
   "metadata": {},
   "source": [
    "### DataFrame"
   ]
  },
  {
   "cell_type": "code",
   "execution_count": 56,
   "metadata": {},
   "outputs": [
    {
     "name": "stdout",
     "output_type": "stream",
     "text": [
      "    name  age  height      city         st\n",
      "0  Alice   19     170  New York 2023-11-22\n",
      "1    Bob   21     185    London 2023-11-22\n",
      "2  Cindy   24     168  New York 2023-11-22\n"
     ]
    },
    {
     "data": {
      "text/html": [
       "<div>\n",
       "<style scoped>\n",
       "    .dataframe tbody tr th:only-of-type {\n",
       "        vertical-align: middle;\n",
       "    }\n",
       "\n",
       "    .dataframe tbody tr th {\n",
       "        vertical-align: top;\n",
       "    }\n",
       "\n",
       "    .dataframe thead th {\n",
       "        text-align: right;\n",
       "    }\n",
       "</style>\n",
       "<table border=\"1\" class=\"dataframe\">\n",
       "  <thead>\n",
       "    <tr style=\"text-align: right;\">\n",
       "      <th></th>\n",
       "      <th>name</th>\n",
       "      <th>age</th>\n",
       "      <th>height</th>\n",
       "      <th>city</th>\n",
       "      <th>st</th>\n",
       "    </tr>\n",
       "  </thead>\n",
       "  <tbody>\n",
       "    <tr>\n",
       "      <th>0</th>\n",
       "      <td>Alice</td>\n",
       "      <td>19</td>\n",
       "      <td>170</td>\n",
       "      <td>New York</td>\n",
       "      <td>2023-11-22</td>\n",
       "    </tr>\n",
       "    <tr>\n",
       "      <th>1</th>\n",
       "      <td>Bob</td>\n",
       "      <td>21</td>\n",
       "      <td>185</td>\n",
       "      <td>London</td>\n",
       "      <td>2023-11-22</td>\n",
       "    </tr>\n",
       "    <tr>\n",
       "      <th>2</th>\n",
       "      <td>Cindy</td>\n",
       "      <td>24</td>\n",
       "      <td>168</td>\n",
       "      <td>New York</td>\n",
       "      <td>2023-11-22</td>\n",
       "    </tr>\n",
       "  </tbody>\n",
       "</table>\n",
       "</div>"
      ],
      "text/plain": [
       "    name  age  height      city         st\n",
       "0  Alice   19     170  New York 2023-11-22\n",
       "1    Bob   21     185    London 2023-11-22\n",
       "2  Cindy   24     168  New York 2023-11-22"
      ]
     },
     "metadata": {},
     "output_type": "display_data"
    }
   ],
   "source": [
    "dct={'name':['Alice','Bob','Cindy'],\n",
    "     'age':[19,21,24],\n",
    "     'height':[170,185,168],\n",
    "     'city':pd.Categorical(['New York', 'London', 'New York']),\n",
    "     'st':d[0]}\n",
    "df1=pd.DataFrame(dct)\n",
    "print(df1)\n",
    "display(df1)"
   ]
  },
  {
   "cell_type": "markdown",
   "metadata": {},
   "source": []
  },
  {
   "cell_type": "code",
   "execution_count": 58,
   "metadata": {},
   "outputs": [
    {
     "name": "stdout",
     "output_type": "stream",
     "text": [
      "{'name': {0: 'Alice', 1: 'Bob', 2: 'Cindy'}, 'age': {0: 19, 1: 21, 2: 24}, 'height': {0: 170, 1: 185, 2: 168}, 'city': {0: 'New York', 1: 'London', 2: 'New York'}, 'st': {0: Timestamp('2023-11-22 00:00:00'), 1: Timestamp('2023-11-22 00:00:00'), 2: Timestamp('2023-11-22 00:00:00')}}\n"
     ]
    }
   ],
   "source": [
    "# 返回字典\n",
    "df1_dct=df1.to_dict()\n",
    "print(df1_dct)"
   ]
  },
  {
   "cell_type": "markdown",
   "metadata": {},
   "source": [
    "查看相关信息：<br>\n",
    "dtypes查看列的类型<br>\n",
    "head，tail查看头（尾）x行  <br>\n",
    "columns查看列名 <br>\n",
    "index查看索引  <br>\n",
    "describe查看行数，每列方差等  <br>"
   ]
  },
  {
   "cell_type": "code",
   "execution_count": 45,
   "metadata": {},
   "outputs": [
    {
     "name": "stdout",
     "output_type": "stream",
     "text": [
      "[[2 5 5 7 3]\n",
      " [5 6 6 7 4]\n",
      " [3 2 7 1 5]\n",
      " [3 1 4 1 5]\n",
      " [5 7 6 9 3]\n",
      " [9 3 8 5 8]\n",
      " [5 2 1 9 6]]\n",
      "            A  B  C  D  E\n",
      "2023-11-22  2  5  5  7  3\n",
      "2023-11-23  5  6  6  7  4\n",
      "2023-11-24  3  2  7  1  5\n",
      "2023-11-25  3  1  4  1  5\n",
      "2023-11-26  5  7  6  9  3\n",
      "2023-11-27  9  3  8  5  8\n",
      "2023-11-28  5  2  1  9  6\n"
     ]
    }
   ],
   "source": [
    "df_idx=pd.date_range('20231122',periods=7)\n",
    "df_data=np.random.randint(1,10,size=(7,5))\n",
    "print(df_data)\n",
    "df_col=list('ABCDE')\n",
    "df=pd.DataFrame(data=df_data,index=df_idx,columns=df_col)\n",
    "print(df)"
   ]
  },
  {
   "cell_type": "code",
   "execution_count": 46,
   "metadata": {},
   "outputs": [
    {
     "name": "stdout",
     "output_type": "stream",
     "text": [
      "name              object\n",
      "age                int64\n",
      "height             int64\n",
      "city            category\n",
      "st        datetime64[ns]\n",
      "dtype: object\n",
      "A    int32\n",
      "B    int32\n",
      "C    int32\n",
      "D    int32\n",
      "E    int32\n",
      "dtype: object\n"
     ]
    }
   ],
   "source": [
    "print(df1.dtypes)\n",
    "print(df.dtypes)"
   ]
  },
  {
   "cell_type": "code",
   "execution_count": 47,
   "metadata": {},
   "outputs": [
    {
     "name": "stdout",
     "output_type": "stream",
     "text": [
      "            A  B  C  D  E\n",
      "2023-11-22  2  5  5  7  3\n",
      "2023-11-23  5  6  6  7  4\n",
      "2023-11-24  3  2  7  1  5\n",
      "            A  B  C  D  E\n",
      "2023-11-26  5  7  6  9  3\n",
      "2023-11-27  9  3  8  5  8\n",
      "2023-11-28  5  2  1  9  6\n"
     ]
    }
   ],
   "source": [
    "# head，tail查看头x行\n",
    "print(df.head(3))\n",
    "print(df.tail(3))"
   ]
  },
  {
   "cell_type": "code",
   "execution_count": 55,
   "metadata": {},
   "outputs": [
    {
     "name": "stdout",
     "output_type": "stream",
     "text": [
      "Index(['A', 'B', 'C', 'D', 'E'], dtype='object')\n"
     ]
    }
   ],
   "source": [
    "print(df.columns)"
   ]
  },
  {
   "cell_type": "code",
   "execution_count": 51,
   "metadata": {},
   "outputs": [
    {
     "name": "stdout",
     "output_type": "stream",
     "text": [
      "DatetimeIndex(['2023-11-22', '2023-11-23', '2023-11-24', '2023-11-25',\n",
      "               '2023-11-26', '2023-11-27', '2023-11-28'],\n",
      "              dtype='datetime64[ns]', freq='D')\n"
     ]
    }
   ],
   "source": [
    "print(df.index)"
   ]
  },
  {
   "cell_type": "code",
   "execution_count": 54,
   "metadata": {},
   "outputs": [
    {
     "name": "stdout",
     "output_type": "stream",
     "text": [
      "              A         B         C         D         E\n",
      "count  7.000000  7.000000  7.000000  7.000000  7.000000\n",
      "mean   4.571429  3.714286  5.285714  5.571429  4.857143\n",
      "std    2.299068  2.288689  2.288689  3.408672  1.772811\n",
      "min    2.000000  1.000000  1.000000  1.000000  3.000000\n",
      "25%    3.000000  2.000000  4.500000  3.000000  3.500000\n",
      "50%    5.000000  3.000000  6.000000  7.000000  5.000000\n",
      "75%    5.000000  5.500000  6.500000  8.000000  5.500000\n",
      "max    9.000000  7.000000  8.000000  9.000000  8.000000\n"
     ]
    }
   ],
   "source": [
    "print(df.describe())"
   ]
  },
  {
   "cell_type": "markdown",
   "metadata": {},
   "source": [
    "修改index，columns"
   ]
  },
  {
   "cell_type": "code",
   "execution_count": 62,
   "metadata": {},
   "outputs": [
    {
     "name": "stdout",
     "output_type": "stream",
     "text": [
      "Index(['day1', 'day2', 'day3', 'day4', 'day5', 'day6', 'day7'], dtype='object')\n",
      "Index(['AA', 'Bb', 'Cc', 'Dd', 'Ee'], dtype='object')\n"
     ]
    }
   ],
   "source": [
    "df.index=['day1','day2','day3','day4','day5','day6','day7']\n",
    "df.columns=['Aa','Bb','Cc','Dd','Ee']\n",
    "\n",
    "# 单独变更列名\n",
    "# df.rename(index={'day1':'day_one'}) #不生效\n",
    "df=df.rename(columns={'Aa':'AA'})\n",
    "print(df.index)\n",
    "print(df.columns)"
   ]
  },
  {
   "cell_type": "markdown",
   "metadata": {},
   "source": [
    "### 排序\n",
    "sort_index()按索引排序<br>\n",
    "axis:排序维度，行或列<br>\n",
    "ascending：是否降序<br>\n",
    "\n",
    "sort_value()按值排序<br>\n",
    "by:按照哪个列名"
   ]
  },
  {
   "cell_type": "code",
   "execution_count": 65,
   "metadata": {},
   "outputs": [
    {
     "name": "stdout",
     "output_type": "stream",
     "text": [
      "   C  B  A\n",
      "2  3  9  7\n",
      "0  1  6  4\n",
      "1  4  3  1\n",
      "   C  B  A\n",
      "0  1  6  4\n",
      "1  4  3  1\n",
      "2  3  9  7\n",
      "   A  B  C\n",
      "2  7  9  3\n",
      "0  4  6  1\n",
      "1  1  3  4\n"
     ]
    }
   ],
   "source": [
    "data = {\n",
    "    'C': [3, 1, 4],\n",
    "    'B': [9, 6, 3],\n",
    "    'A': [7, 4, 1]\n",
    "}\n",
    "\n",
    "df53 = pd.DataFrame(data,index=[2,0,1])\n",
    "\n",
    "# 按照行索引进行升序排序\n",
    "print(df53)\n",
    "print(df53.sort_index())\n",
    "# 按照列名索引进行升序排序\n",
    "print(df53.sort_index(axis=1))\n",
    "\n"
   ]
  },
  {
   "cell_type": "code",
   "execution_count": 66,
   "metadata": {},
   "outputs": [
    {
     "name": "stdout",
     "output_type": "stream",
     "text": [
      "   C  B  A\n",
      "1  4  3  1\n",
      "0  1  6  4\n",
      "2  3  9  7\n"
     ]
    }
   ],
   "source": [
    "print(df53.sort_values(by='A'))"
   ]
  }
 ],
 "metadata": {
  "kernelspec": {
   "display_name": "Python 3 (ipykernel)",
   "language": "python",
   "name": "python3"
  },
  "language_info": {
   "codemirror_mode": {
    "name": "ipython",
    "version": 3
   },
   "file_extension": ".py",
   "mimetype": "text/x-python",
   "name": "python",
   "nbconvert_exporter": "python",
   "pygments_lexer": "ipython3",
   "version": "3.11.4"
  }
 },
 "nbformat": 4,
 "nbformat_minor": 4
}
